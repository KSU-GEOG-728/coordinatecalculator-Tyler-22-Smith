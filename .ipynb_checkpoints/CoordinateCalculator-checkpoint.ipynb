{
 "cells": [
  {
   "cell_type": "markdown",
   "id": "1b31be22",
   "metadata": {},
   "source": [
    "# Geographic Coordinate Converter\n",
    "\n",
    "Converts a geographic coordinate in DDMMSS format to DD"
   ]
  },
  {
   "cell_type": "markdown",
   "id": "220c42ad",
   "metadata": {},
   "source": [
    "Step 1 - Use the Python input function to prompt a user to enter a geographic coordinate in DDMMSS format (e.g., 391120)."
   ]
  },
  {
   "cell_type": "code",
   "execution_count": null,
   "id": "16f5440b",
   "metadata": {},
   "outputs": [],
   "source": [
    "x = input(\"Please enter a coordinate in DDMMSS format: \")"
   ]
  },
  {
   "cell_type": "markdown",
   "id": "50c7e956",
   "metadata": {},
   "source": [
    "Step 2 - Determine the data type of x and print its value before moving forward."
   ]
  },
  {
   "cell_type": "code",
   "execution_count": null,
   "id": "2a5030b7",
   "metadata": {},
   "outputs": [],
   "source": [
    "type(x)"
   ]
  },
  {
   "cell_type": "code",
   "execution_count": null,
   "id": "98e7e8fb",
   "metadata": {},
   "outputs": [],
   "source": [
    "print(x)"
   ]
  },
  {
   "cell_type": "markdown",
   "id": "278587dc",
   "metadata": {},
   "source": [
    "### Coordinate Converter \n",
    "**Virginia Tech = 371340, -802521 ---> 37.227829, -80.422451**"
   ]
  },
  {
   "cell_type": "code",
   "execution_count": null,
   "id": "a82a38c2",
   "metadata": {},
   "outputs": [],
   "source": [
    "# Breaking input x into integer components\n",
    "degree = int(x[0:2])\n",
    "minute = int(x[2:4])\n",
    "second = int(x[4:6])\n",
    "\n",
    "print(degree, minute, second)"
   ]
  },
  {
   "cell_type": "code",
   "execution_count": null,
   "id": "3d011ec9",
   "metadata": {},
   "outputs": [],
   "source": [
    "# calculating degrees\n",
    "decimal_degree = degree + (minute + second/60) / 60\n",
    "\n",
    "# Answer\n",
    "print(\"Coordinate in Decimal Degrees = {0}\".format(round(decimal_degree, 3)))\n"
   ]
  },
  {
   "cell_type": "markdown",
   "id": "39450000",
   "metadata": {},
   "source": [
    "### Test function (for fun)"
   ]
  },
  {
   "cell_type": "code",
   "execution_count": null,
   "id": "2f7f6953",
   "metadata": {},
   "outputs": [],
   "source": [
    "import webbrowser\n",
    "\n",
    "longitude = input(\"Please enter LONGITUDE in DDMMSS format: \")\n",
    "latitude = input(\"Please enter LATITUDE in DDMMSS format: \")\n",
    "\n",
    "def DDMMSS_to_DD(long, lat):\n",
    "    long = longitude\n",
    "    lat = latitude\n",
    "    \n",
    "    degr = int(long[0:2], lat[0:2])\n",
    "    mins = int(long[2:4], lat[0:2])\n",
    "    secs = int(long[4:6], lat[0:2])\n",
    "    \n",
    "    dec_degr = round(degr + (mins + secs/60) / 60, 3)\n",
    "    \n",
    "    print(\"..... Opening location in browser\")\n",
    "    \n",
    "    url = \"https://www.google.com/maps/@{0},{1}\".format(dec_degr[0], dec_degr[1])\n",
    "    webbrowser.open(url)\n",
    "    \n",
    "    print(\"...\")\n",
    "    print(\"..... Printing coordinates in decimal degrees\")\n",
    "    \n",
    "    print(\"Coordinate in Decimal Degrees = {0}\".format(round(dec_degr, 3)))\n",
    "    \n",
    "    \n",
    "    "
   ]
  }
 ],
 "metadata": {
  "kernelspec": {
   "display_name": "Python 3 (ipykernel)",
   "language": "python",
   "name": "python3"
  },
  "language_info": {
   "codemirror_mode": {
    "name": "ipython",
    "version": 3
   },
   "file_extension": ".py",
   "mimetype": "text/x-python",
   "name": "python",
   "nbconvert_exporter": "python",
   "pygments_lexer": "ipython3",
   "version": "3.11.4"
  }
 },
 "nbformat": 4,
 "nbformat_minor": 5
}
